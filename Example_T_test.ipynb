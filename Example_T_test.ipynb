{
 "cells": [
  {
   "cell_type": "code",
   "execution_count": 3,
   "metadata": {},
   "outputs": [
    {
     "data": {
      "text/html": [
       "<div>\n",
       "<style scoped>\n",
       "    .dataframe tbody tr th:only-of-type {\n",
       "        vertical-align: middle;\n",
       "    }\n",
       "\n",
       "    .dataframe tbody tr th {\n",
       "        vertical-align: top;\n",
       "    }\n",
       "\n",
       "    .dataframe thead th {\n",
       "        text-align: right;\n",
       "    }\n",
       "</style>\n",
       "<table border=\"1\" class=\"dataframe\">\n",
       "  <thead>\n",
       "    <tr style=\"text-align: right;\">\n",
       "      <th></th>\n",
       "      <th>StudentID</th>\n",
       "      <th>Name</th>\n",
       "      <th>Grade</th>\n",
       "      <th>AttendedRemedialClass</th>\n",
       "    </tr>\n",
       "  </thead>\n",
       "  <tbody>\n",
       "    <tr>\n",
       "      <th>0</th>\n",
       "      <td>4001</td>\n",
       "      <td>Student_1</td>\n",
       "      <td>89</td>\n",
       "      <td>0</td>\n",
       "    </tr>\n",
       "    <tr>\n",
       "      <th>1</th>\n",
       "      <td>4002</td>\n",
       "      <td>Student_2</td>\n",
       "      <td>72</td>\n",
       "      <td>0</td>\n",
       "    </tr>\n",
       "    <tr>\n",
       "      <th>2</th>\n",
       "      <td>4003</td>\n",
       "      <td>Student_3</td>\n",
       "      <td>76</td>\n",
       "      <td>1</td>\n",
       "    </tr>\n",
       "    <tr>\n",
       "      <th>3</th>\n",
       "      <td>4004</td>\n",
       "      <td>Student_4</td>\n",
       "      <td>89</td>\n",
       "      <td>1</td>\n",
       "    </tr>\n",
       "    <tr>\n",
       "      <th>4</th>\n",
       "      <td>4005</td>\n",
       "      <td>Student_5</td>\n",
       "      <td>74</td>\n",
       "      <td>1</td>\n",
       "    </tr>\n",
       "  </tbody>\n",
       "</table>\n",
       "</div>"
      ],
      "text/plain": [
       "   StudentID       Name  Grade  AttendedRemedialClass\n",
       "0       4001  Student_1     89                      0\n",
       "1       4002  Student_2     72                      0\n",
       "2       4003  Student_3     76                      1\n",
       "3       4004  Student_4     89                      1\n",
       "4       4005  Student_5     74                      1"
      ]
     },
     "execution_count": 3,
     "metadata": {},
     "output_type": "execute_result"
    }
   ],
   "source": [
    "import pandas as pd\n",
    "\n",
    "# Load the CSV file into a DataFrame\n",
    "students_df = pd.read_csv(\"Data\\students.csv\")\n",
    "\n",
    "# Display the first few rows to get an overview of the data\n",
    "students_df.head()"
   ]
  },
  {
   "cell_type": "markdown",
   "metadata": {},
   "source": [
    "### Split data into groups"
   ]
  },
  {
   "cell_type": "code",
   "execution_count": 2,
   "metadata": {},
   "outputs": [],
   "source": [
    "# split dataframe in 2 groups\n",
    "\n",
    "attended_remedial = students_df[students_df['AttendedRemedialClass'] == 1]['Grade']\n",
    "did_not_attend_remedial = students_df[students_df['AttendedRemedialClass'] == 0]['Grade']\n",
    "\n",
    "#attended_remedial = students_df.query('AttendedRemedialClass == 0')\n",
    "#attended_remedial = attended_remedial['Grade']\n",
    "\n",
    "#did_not_attend_remedial = students_df.query('AttendedRemedialClass == 1')\n",
    "#did_not_attend_remedial = did_not_attend_remedial['Grade']\n",
    "\n",
    "#attended_remedial\n",
    "#did_not_attend_remedial"
   ]
  },
  {
   "cell_type": "code",
   "execution_count": 3,
   "metadata": {},
   "outputs": [
    {
     "data": {
      "text/plain": [
       "(1.590642154625986, 0.11491097925955175)"
      ]
     },
     "execution_count": 3,
     "metadata": {},
     "output_type": "execute_result"
    }
   ],
   "source": [
    "from scipy import stats\n",
    "\n",
    "# H0 = no significant difference in grades between students in remedial classes and theis peers\n",
    "# H1 = substantial discrepancy between the two groups\n",
    "\n",
    "t_stat, p_value = stats.ttest_ind(attended_remedial, did_not_attend_remedial)\n",
    "\n",
    "t_stat, p_value\n",
    "\n",
    "# p_value > 0.05, indicates we cannot reject H0\n",
    "#Assumptions\n",
    "# Independence: Observations in each group are independent of each other. One student grade does not influence the grade of another\n",
    "# Normality: The data in each group is approximately normally distributed..\n",
    "# Equal or unequal variance: The t-test can be conducted under the assumption of equal variances between the two groups or not.\n",
    "# If not, a variation of the t-test called Welch's t-test can be used"
   ]
  },
  {
   "cell_type": "code",
   "execution_count": 4,
   "metadata": {},
   "outputs": [
    {
     "data": {
      "text/plain": [
       "(0.3055445779323429, 0.5816858261588607)"
      ]
     },
     "execution_count": 4,
     "metadata": {},
     "output_type": "execute_result"
    }
   ],
   "source": [
    "from scipy.stats import levene\n",
    "\n",
    "# Performing Levene's test for equal variances check\n",
    "# H0 = The variances of the two groups are equal\n",
    "# H1 = The variances of the two groups are not equal\n",
    "statistic, p_value_levene = levene(attended_remedial, did_not_attend_remedial)\n",
    "\n",
    "statistic, p_value_levene\n",
    "# p_value > 0.05, fail to reject H0"
   ]
  },
  {
   "cell_type": "code",
   "execution_count": 5,
   "metadata": {},
   "outputs": [
    {
     "data": {
      "text/plain": [
       "(75.87373737373737, 82.62828282828285)"
      ]
     },
     "execution_count": 5,
     "metadata": {},
     "output_type": "execute_result"
    }
   ],
   "source": [
    "# Calculating the variances for each group\n",
    "variance_attended_remedial = attended_remedial.var()\n",
    "variance_did_not_attend_remedial = did_not_attend_remedial.var()\n",
    "\n",
    "variance_attended_remedial, variance_did_not_attend_remedial"
   ]
  }
 ],
 "metadata": {
  "kernelspec": {
   "display_name": "Python 3.9.7 64-bit",
   "language": "python",
   "name": "python3"
  },
  "language_info": {
   "codemirror_mode": {
    "name": "ipython",
    "version": 3
   },
   "file_extension": ".py",
   "mimetype": "text/x-python",
   "name": "python",
   "nbconvert_exporter": "python",
   "pygments_lexer": "ipython3",
   "version": "3.9.7"
  },
  "orig_nbformat": 4,
  "vscode": {
   "interpreter": {
    "hash": "c109f91425fc4aa94a1ea158ab4199ca614aa59cbcb1c7d695540f7a7fa58966"
   }
  }
 },
 "nbformat": 4,
 "nbformat_minor": 2
}
